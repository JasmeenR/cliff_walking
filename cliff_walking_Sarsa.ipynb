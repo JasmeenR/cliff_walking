{
  "cells": [
    {
      "cell_type": "code",
      "execution_count": null,
      "metadata": {
        "colab": {
          "base_uri": "https://localhost:8080/"
        },
        "id": "yy00P9gXF3hJ",
        "outputId": "cb2c9c82-a9ae-4c06-a561-7a53ab9ee574"
      },
      "outputs": [
        {
          "name": "stdout",
          "output_type": "stream",
          "text": [
            "Collecting gymnasium\n",
            "  Downloading gymnasium-0.29.1-py3-none-any.whl.metadata (10 kB)\n",
            "Requirement already satisfied: numpy>=1.21.0 in /usr/local/lib/python3.10/dist-packages (from gymnasium) (1.26.4)\n",
            "Requirement already satisfied: cloudpickle>=1.2.0 in /usr/local/lib/python3.10/dist-packages (from gymnasium) (2.2.1)\n",
            "Requirement already satisfied: typing-extensions>=4.3.0 in /usr/local/lib/python3.10/dist-packages (from gymnasium) (4.12.2)\n",
            "Collecting farama-notifications>=0.0.1 (from gymnasium)\n",
            "  Downloading Farama_Notifications-0.0.4-py3-none-any.whl.metadata (558 bytes)\n",
            "Downloading gymnasium-0.29.1-py3-none-any.whl (953 kB)\n",
            "\u001b[2K   \u001b[90m━━━━━━━━━━━━━━━━━━━━━━━━━━━━━━━━━━━━━━━━\u001b[0m \u001b[32m953.9/953.9 kB\u001b[0m \u001b[31m12.1 MB/s\u001b[0m eta \u001b[36m0:00:00\u001b[0m\n",
            "\u001b[?25hDownloading Farama_Notifications-0.0.4-py3-none-any.whl (2.5 kB)\n",
            "Installing collected packages: farama-notifications, gymnasium\n",
            "Successfully installed farama-notifications-0.0.4 gymnasium-0.29.1\n"
          ]
        }
      ],
      "source": [
        "%pip install gymnasium"
      ]
    },
    {
      "cell_type": "code",
      "execution_count": null,
      "metadata": {
        "id": "JnK2YqyFN5DC"
      },
      "outputs": [],
      "source": [
        "import numpy as np #Scientific calculation or to deal with arrays\n",
        "import gymnasium as gym #provides you with the environment"
      ]
    },
    {
      "cell_type": "code",
      "execution_count": null,
      "metadata": {
        "id": "HFm7SJTo2cMS"
      },
      "outputs": [],
      "source": [
        "env=gym.make()   #Ctrl + Mouse hover"
      ]
    },
    {
      "cell_type": "code",
      "execution_count": null,
      "metadata": {
        "id": "scZrfDbzVWX_"
      },
      "outputs": [],
      "source": [
        "env = gym.make('CliffWalking-v0',render_mode='rgb_array')#rgb_array for recording video\n",
        "n_observations = env.observation_space.n\n",
        "n_actions = env.action_space.n"
      ]
    },
    {
      "cell_type": "code",
      "execution_count": null,
      "metadata": {
        "colab": {
          "base_uri": "https://localhost:8080/"
        },
        "id": "SM03fo12jJBN",
        "outputId": "ad648ecd-ce2d-474a-894a-fa69191a46d2"
      },
      "outputs": [
        {
          "name": "stdout",
          "output_type": "stream",
          "text": [
            "Number of States 48\n",
            "Number of possible actions 4\n"
          ]
        }
      ],
      "source": [
        "print('Number of States',n_observations)\n",
        "print('Number of possible actions',n_actions)"
      ]
    },
    {
      "cell_type": "code",
      "execution_count": null,
      "metadata": {
        "colab": {
          "base_uri": "https://localhost:8080/"
        },
        "id": "Y3TNASDEaKAL",
        "outputId": "d0b9d56c-6e21-4578-c1ff-8c17d8f1ba61"
      },
      "outputs": [
        {
          "name": "stdout",
          "output_type": "stream",
          "text": [
            "[[0. 0. 0. 0.]\n",
            " [0. 0. 0. 0.]\n",
            " [0. 0. 0. 0.]\n",
            " [0. 0. 0. 0.]\n",
            " [0. 0. 0. 0.]\n",
            " [0. 0. 0. 0.]\n",
            " [0. 0. 0. 0.]\n",
            " [0. 0. 0. 0.]\n",
            " [0. 0. 0. 0.]\n",
            " [0. 0. 0. 0.]\n",
            " [0. 0. 0. 0.]\n",
            " [0. 0. 0. 0.]\n",
            " [0. 0. 0. 0.]\n",
            " [0. 0. 0. 0.]\n",
            " [0. 0. 0. 0.]\n",
            " [0. 0. 0. 0.]\n",
            " [0. 0. 0. 0.]\n",
            " [0. 0. 0. 0.]\n",
            " [0. 0. 0. 0.]\n",
            " [0. 0. 0. 0.]\n",
            " [0. 0. 0. 0.]\n",
            " [0. 0. 0. 0.]\n",
            " [0. 0. 0. 0.]\n",
            " [0. 0. 0. 0.]\n",
            " [0. 0. 0. 0.]\n",
            " [0. 0. 0. 0.]\n",
            " [0. 0. 0. 0.]\n",
            " [0. 0. 0. 0.]\n",
            " [0. 0. 0. 0.]\n",
            " [0. 0. 0. 0.]\n",
            " [0. 0. 0. 0.]\n",
            " [0. 0. 0. 0.]\n",
            " [0. 0. 0. 0.]\n",
            " [0. 0. 0. 0.]\n",
            " [0. 0. 0. 0.]\n",
            " [0. 0. 0. 0.]\n",
            " [0. 0. 0. 0.]\n",
            " [0. 0. 0. 0.]\n",
            " [0. 0. 0. 0.]\n",
            " [0. 0. 0. 0.]\n",
            " [0. 0. 0. 0.]\n",
            " [0. 0. 0. 0.]\n",
            " [0. 0. 0. 0.]\n",
            " [0. 0. 0. 0.]\n",
            " [0. 0. 0. 0.]\n",
            " [0. 0. 0. 0.]\n",
            " [0. 0. 0. 0.]\n",
            " [0. 0. 0. 0.]]\n"
          ]
        }
      ],
      "source": [
        "#Initialize the Q-table to 0\n",
        "Q_table = np.zeros((n_observations,n_actions))\n",
        "print(Q_table)"
      ]
    },
    {
      "cell_type": "code",
      "execution_count": null,
      "metadata": {
        "colab": {
          "base_uri": "https://localhost:8080/"
        },
        "id": "6808y0WNirhH",
        "outputId": "dd0b3893-a203-4199-8151-6878164c83dc"
      },
      "outputs": [
        {
          "data": {
            "text/plain": [
              "(48, 4)"
            ]
          },
          "execution_count": 7,
          "metadata": {},
          "output_type": "execute_result"
        }
      ],
      "source": [
        "Q_table.shape #48 States with 4 actions each"
      ]
    },
    {
      "cell_type": "code",
      "execution_count": null,
      "metadata": {
        "id": "KnsWjPe4i6jV"
      },
      "outputs": [],
      "source": [
        "#number of episode we will run\n",
        "n_episodes = 50000\n",
        "\n",
        "#maximum of iteration per episode- Or number of steps per episode\n",
        "steps_allowed = 500\n",
        "\n",
        "#initialize the exploration probability to 1\n",
        "epsilon = 1\n",
        "\n",
        "#exploartion decreasing decay for exponential decreasing\n",
        "decay_rate = 0.001\n",
        "\n",
        "# minimum of exploration proba\n",
        "min_epsilon = 0.01\n",
        "\n",
        "#max exploration rate\n",
        "max_epsilon=1\n",
        "\n",
        "#discounted factor- Return G(t)- continuos task\n",
        "gamma = 0.97\n",
        "\n",
        "#learning rate - Alpha - Update Q values- storing new info as well as preserving the old one\n",
        "lr = 0.1"
      ]
    },
    {
      "cell_type": "code",
      "execution_count": null,
      "metadata": {
        "id": "USy0M7JSjxNg"
      },
      "outputs": [],
      "source": [
        "#Storing rewards after each episode in a list\n",
        "rewards_per_episode = list()"
      ]
    },
    {
      "cell_type": "markdown",
      "metadata": {
        "id": "xonS-6I1ELlk"
      },
      "source": [
        "10000 -\n",
        "1. - R1\n",
        "2. - R2\n",
        "3.  - R3"
      ]
    },
    {
      "cell_type": "markdown",
      "metadata": {
        "id": "YZeezhRTIjds"
      },
      "source": [
        "#Training"
      ]
    },
    {
      "cell_type": "code",
      "execution_count": null,
      "metadata": {
        "id": "ezqS5FESCps9"
      },
      "outputs": [],
      "source": [
        "#Greedy Policy\n",
        "def choose_action(state):\n",
        "    action=0\n",
        "    if np.random.uniform(0, 1) < epsilon:\n",
        "        action = env.action_space.sample()\n",
        "    else:\n",
        "        action = np.argmax(Q_table[state, :])\n",
        "    return action"
      ]
    },
    {
      "cell_type": "code",
      "execution_count": null,
      "metadata": {
        "id": "3-vRHc3LkCUv"
      },
      "outputs": [],
      "source": [
        "#we iterate over episodes\n",
        "for e in range(n_episodes): #Entering in the episode\n",
        "  #we initialize the first state of the episode\n",
        "  state = env.reset()[0]\n",
        "  done = False\n",
        "  action1=choose_action(state)\n",
        "  #sum the rewards that the agent gets from the environment\n",
        "  total_reward = 0\n",
        "\n",
        "  for i in range(steps_allowed): #individual steps taken within an episode\n",
        "    # epsilon greedy strategy\n",
        "    # we initiate a random number between 0 and 1\n",
        "    # if the random_number is less than the exploration proba(epsilon)\n",
        "    #     the agent explores\n",
        "    # else\n",
        "    #     he exploits his knowledge\n",
        "\n",
        "\n",
        "\n",
        "    # The environment runs the chosen action and returns\n",
        "    # the next state, a reward and true if the episode is ended.\n",
        "    next_state, reward, done, truncated , info = env.step(action1)\n",
        "    action2=choose_action(next_state)\n",
        "\n",
        "    # We update our Q-table using the Q-learning iteration\n",
        "    Q_table[state, action1] = (1-lr) * Q_table[state, action1]+ lr*(reward + gamma*(Q_table[next_state,action2]))\n",
        "    total_reward = total_reward + reward\n",
        "\n",
        "    state = next_state\n",
        "    action1=action2\n",
        "    # If the episode is finished, we leave the for loop\n",
        "    if done:\n",
        "        break\n",
        "\n",
        "  #We update the exploration proba using exponential decay formula\n",
        "  epsilon = min_epsilon + (max_epsilon - min_epsilon) * np.exp(-decay_rate*e)\n",
        "  rewards_per_episode.append(total_reward)"
      ]
    },
    {
      "cell_type": "code",
      "execution_count": null,
      "metadata": {
        "colab": {
          "base_uri": "https://localhost:8080/"
        },
        "id": "GqRgrhkOpRdF",
        "outputId": "96031657-256a-4184-f8b4-6f171d610b2e"
      },
      "outputs": [
        {
          "data": {
            "text/plain": [
              "50000"
            ]
          },
          "execution_count": 13,
          "metadata": {},
          "output_type": "execute_result"
        }
      ],
      "source": [
        "len(rewards_per_episode)"
      ]
    },
    {
      "cell_type": "code",
      "execution_count": null,
      "metadata": {
        "id": "ct28QblWv09J"
      },
      "outputs": [],
      "source": [
        "rewards_per_thousand_episodes=np.split(np.array(rewards_per_episode),50)"
      ]
    },
    {
      "cell_type": "code",
      "execution_count": null,
      "metadata": {
        "colab": {
          "base_uri": "https://localhost:8080/"
        },
        "id": "Mr-zi7zAwMgk",
        "outputId": "9230d2a2-3d04-47d9-c2b7-09c147de3031"
      },
      "outputs": [
        {
          "name": "stdout",
          "output_type": "stream",
          "text": [
            "-----Average reward per thousand episodes-------\n",
            "1000 : -1133.6600000000017\n",
            "2000 : -517.5229999999992\n",
            "3000 : -502.7719999999998\n",
            "4000 : -501.5839999999999\n",
            "5000 : -500.792\n",
            "6000 : -500.396\n",
            "7000 : -500.0\n",
            "8000 : -500.198\n",
            "9000 : -500.099\n",
            "10000 : -500.59399999999994\n",
            "11000 : -500.29699999999997\n",
            "12000 : -500.39599999999996\n",
            "13000 : -500.099\n",
            "14000 : -500.099\n",
            "15000 : -500.0\n",
            "16000 : -500.198\n",
            "17000 : -500.099\n",
            "18000 : -500.198\n",
            "19000 : -500.39599999999996\n",
            "20000 : -500.198\n",
            "21000 : -500.198\n",
            "22000 : -500.198\n",
            "23000 : -500.39599999999996\n",
            "24000 : -500.693\n",
            "25000 : -500.198\n",
            "26000 : -500.099\n",
            "27000 : -500.198\n",
            "28000 : -500.495\n",
            "29000 : -500.099\n",
            "30000 : -500.8909999999999\n",
            "31000 : -500.39599999999996\n",
            "32000 : -500.198\n",
            "33000 : -500.099\n",
            "34000 : -500.39599999999996\n",
            "35000 : -500.198\n",
            "36000 : -500.29699999999997\n",
            "37000 : -500.49499999999995\n",
            "38000 : -500.39599999999996\n",
            "39000 : -500.099\n",
            "40000 : -500.29699999999997\n",
            "41000 : -500.198\n",
            "42000 : -500.198\n",
            "43000 : -500.099\n",
            "44000 : -500.29699999999997\n",
            "45000 : -500.198\n",
            "46000 : -500.29699999999997\n",
            "47000 : -500.29699999999997\n",
            "48000 : -500.198\n",
            "49000 : -500.29699999999997\n",
            "50000 : -500.49499999999995\n"
          ]
        }
      ],
      "source": [
        "count=1000\n",
        "print('-----Average reward per thousand episodes-------')\n",
        "for r in rewards_per_thousand_episodes:\n",
        "  print(count,':' ,str(sum(r/1000)))\n",
        "  count+=1000"
      ]
    },
    {
      "cell_type": "code",
      "execution_count": null,
      "metadata": {
        "colab": {
          "base_uri": "https://localhost:8080/"
        },
        "id": "hcyA3VfLFVR2",
        "outputId": "77eb8d64-633c-4604-b19b-dfa2f3cde7c2"
      },
      "outputs": [
        {
          "name": "stdout",
          "output_type": "stream",
          "text": [
            "-----------Updated Q Table-----------\n",
            "[[ -33.33333436  -33.33333845  -33.33333603  -33.33333388]\n",
            " [ -33.33353983  -33.33447375  -33.33338371  -33.33333536]\n",
            " [ -33.40370306  -33.80272987  -33.50809409  -33.33333969]\n",
            " [ -35.95381786  -37.3480845   -41.23603262  -33.38884672]\n",
            " [ -49.81706786  -58.80795236  -61.50167152  -34.58646241]\n",
            " [ -70.30940357  -72.02605896  -86.9854649   -44.16297038]\n",
            " [ -75.35931102  -72.93484324  -92.30014756  -76.05440238]\n",
            " [ -72.64093464  -62.46394108  -94.06803729  -79.62017389]\n",
            " [ -66.19175527  -54.54594871  -77.26858704  -72.19714375]\n",
            " [ -57.20133999  -51.1003791   -63.84519664  -61.46793858]\n",
            " [ -53.16637567  -45.82825094  -53.97761422  -55.86483746]\n",
            " [ -51.06649808  -50.63281614  -34.2308021   -51.88975667]\n",
            " [ -33.33333429  -33.33343934  -33.33353346  -33.33336391]\n",
            " [ -33.33333613  -33.565589    -33.71226562  -33.34218467]\n",
            " [ -33.34567174  -39.8135517   -38.48605576  -33.97924719]\n",
            " [ -34.18790542  -52.72474654  -76.43097051  -36.49398534]\n",
            " [ -44.31178251  -82.4214015  -128.49068273  -55.94123438]\n",
            " [ -65.39503807  -84.35812533 -129.84890027  -80.03062719]\n",
            " [ -73.94336865  -89.90215419 -116.59949829  -91.43806557]\n",
            " [ -71.6844331   -80.81938374 -145.28138274  -95.55528764]\n",
            " [ -63.11231812  -82.35433784 -112.02689078  -87.69226412]\n",
            " [ -56.08114157  -63.01681743 -127.36370006  -84.3681925 ]\n",
            " [ -53.25642208  -42.38644217  -63.54091882  -76.23817685]\n",
            " [ -51.19309248  -44.76361843  -19.06692671  -56.95697874]\n",
            " [ -33.33333565  -33.334104    -33.34822732  -33.34023134]\n",
            " [ -33.33335445  -43.91954785 -138.1159328   -35.10038484]\n",
            " [ -35.63821023  -61.5210383  -156.93642316  -49.66997973]\n",
            " [ -43.62037113 -128.23438497 -174.07993089  -66.03189215]\n",
            " [ -89.63281098 -133.31470574 -186.01319374 -100.34803328]\n",
            " [ -91.22256168 -143.74792851 -242.17693135 -176.66635431]\n",
            " [ -87.81793568 -146.05364324 -258.90454687 -160.49763743]\n",
            " [-104.52213011 -130.731912   -233.75377959 -167.84017935]\n",
            " [ -79.57172668  -94.0215443  -269.38992308 -146.70416326]\n",
            " [ -72.01888523  -98.37626436 -238.53315894 -122.45631546]\n",
            " [ -57.12510684  -18.80364477 -240.17238515 -106.82253503]\n",
            " [ -46.94849666  -30.48954207   -1.          -59.96175837]\n",
            " [ -33.33335807 -132.69988518  -33.34319544  -33.34292458]\n",
            " [   0.            0.            0.            0.        ]\n",
            " [   0.            0.            0.            0.        ]\n",
            " [   0.            0.            0.            0.        ]\n",
            " [   0.            0.            0.            0.        ]\n",
            " [   0.            0.            0.            0.        ]\n",
            " [   0.            0.            0.            0.        ]\n",
            " [   0.            0.            0.            0.        ]\n",
            " [   0.            0.            0.            0.        ]\n",
            " [   0.            0.            0.            0.        ]\n",
            " [   0.            0.            0.            0.        ]\n",
            " [   0.            0.            0.            0.        ]]\n"
          ]
        }
      ],
      "source": [
        "print('-----------Updated Q Table-----------')\n",
        "print(Q_table)"
      ]
    },
    {
      "cell_type": "code",
      "execution_count": null,
      "metadata": {
        "id": "FluOwCvoa8cH"
      },
      "outputs": [],
      "source": [
        "import time\n",
        "from IPython.display import clear_output"
      ]
    },
    {
      "cell_type": "code",
      "execution_count": null,
      "metadata": {
        "colab": {
          "background_save": true,
          "base_uri": "https://localhost:8080/"
        },
        "id": "yLMGdyEvjbsK",
        "outputId": "893428f2-75c3-4b82-de13-691146a8bb7a"
      },
      "outputs": [
        {
          "name": "stdout",
          "output_type": "stream",
          "text": [
            "Collecting comet_ml\n",
            "  Downloading comet_ml-3.45.0-py3-none-any.whl.metadata (3.9 kB)\n",
            "Requirement already satisfied: gymnasium[classic_control] in /usr/local/lib/python3.10/dist-packages (0.29.1)\n",
            "Requirement already satisfied: numpy>=1.21.0 in /usr/local/lib/python3.10/dist-packages (from gymnasium[classic_control]) (1.26.4)\n",
            "Requirement already satisfied: cloudpickle>=1.2.0 in /usr/local/lib/python3.10/dist-packages (from gymnasium[classic_control]) (2.2.1)\n",
            "Requirement already satisfied: typing-extensions>=4.3.0 in /usr/local/lib/python3.10/dist-packages (from gymnasium[classic_control]) (4.12.2)\n",
            "Requirement already satisfied: farama-notifications>=0.0.1 in /usr/local/lib/python3.10/dist-packages (from gymnasium[classic_control]) (0.0.4)\n",
            "Requirement already satisfied: pygame>=2.1.3 in /usr/local/lib/python3.10/dist-packages (from gymnasium[classic_control]) (2.6.0)\n",
            "Collecting everett<3.2.0,>=1.0.1 (from everett[ini]<3.2.0,>=1.0.1->comet_ml)\n",
            "  Downloading everett-3.1.0-py2.py3-none-any.whl.metadata (17 kB)\n",
            "Requirement already satisfied: jsonschema!=3.1.0,>=2.6.0 in /usr/local/lib/python3.10/dist-packages (from comet_ml) (4.23.0)\n",
            "Requirement already satisfied: psutil>=5.6.3 in /usr/local/lib/python3.10/dist-packages (from comet_ml) (5.9.5)\n",
            "Collecting python-box<7.0.0 (from comet_ml)\n",
            "  Downloading python_box-6.1.0-cp310-cp310-manylinux_2_17_x86_64.manylinux2014_x86_64.whl.metadata (7.8 kB)\n",
            "Collecting requests-toolbelt>=0.8.0 (from comet_ml)\n",
            "  Downloading requests_toolbelt-1.0.0-py2.py3-none-any.whl.metadata (14 kB)\n",
            "Requirement already satisfied: requests>=2.18.4 in /usr/local/lib/python3.10/dist-packages (from comet_ml) (2.32.3)\n",
            "Collecting semantic-version>=2.8.0 (from comet_ml)\n",
            "  Downloading semantic_version-2.10.0-py2.py3-none-any.whl.metadata (9.7 kB)\n",
            "Collecting sentry-sdk>=1.1.0 (from comet_ml)\n",
            "  Downloading sentry_sdk-2.13.0-py2.py3-none-any.whl.metadata (9.7 kB)\n",
            "Collecting simplejson (from comet_ml)\n",
            "  Downloading simplejson-3.19.3-cp310-cp310-manylinux_2_5_x86_64.manylinux1_x86_64.manylinux_2_17_x86_64.manylinux2014_x86_64.whl.metadata (3.2 kB)\n",
            "Requirement already satisfied: urllib3>=1.21.1 in /usr/local/lib/python3.10/dist-packages (from comet_ml) (2.0.7)\n",
            "Requirement already satisfied: wrapt>=1.11.2 in /usr/local/lib/python3.10/dist-packages (from comet_ml) (1.16.0)\n",
            "Collecting wurlitzer>=1.0.2 (from comet_ml)\n",
            "  Downloading wurlitzer-3.1.1-py3-none-any.whl.metadata (2.5 kB)\n",
            "Collecting dulwich!=0.20.33,>=0.20.6 (from comet_ml)\n",
            "  Downloading dulwich-0.22.1-cp310-cp310-manylinux_2_17_x86_64.manylinux2014_x86_64.whl.metadata (4.4 kB)\n",
            "Requirement already satisfied: rich>=13.3.2 in /usr/local/lib/python3.10/dist-packages (from comet_ml) (13.8.0)\n",
            "Collecting configobj (from everett[ini]<3.2.0,>=1.0.1->comet_ml)\n",
            "  Downloading configobj-5.0.8-py2.py3-none-any.whl.metadata (3.4 kB)\n",
            "Requirement already satisfied: attrs>=22.2.0 in /usr/local/lib/python3.10/dist-packages (from jsonschema!=3.1.0,>=2.6.0->comet_ml) (24.2.0)\n",
            "Requirement already satisfied: jsonschema-specifications>=2023.03.6 in /usr/local/lib/python3.10/dist-packages (from jsonschema!=3.1.0,>=2.6.0->comet_ml) (2023.12.1)\n",
            "Requirement already satisfied: referencing>=0.28.4 in /usr/local/lib/python3.10/dist-packages (from jsonschema!=3.1.0,>=2.6.0->comet_ml) (0.35.1)\n",
            "Requirement already satisfied: rpds-py>=0.7.1 in /usr/local/lib/python3.10/dist-packages (from jsonschema!=3.1.0,>=2.6.0->comet_ml) (0.20.0)\n",
            "Requirement already satisfied: charset-normalizer<4,>=2 in /usr/local/lib/python3.10/dist-packages (from requests>=2.18.4->comet_ml) (3.3.2)\n",
            "Requirement already satisfied: idna<4,>=2.5 in /usr/local/lib/python3.10/dist-packages (from requests>=2.18.4->comet_ml) (3.8)\n",
            "Requirement already satisfied: certifi>=2017.4.17 in /usr/local/lib/python3.10/dist-packages (from requests>=2.18.4->comet_ml) (2024.7.4)\n",
            "Requirement already satisfied: markdown-it-py>=2.2.0 in /usr/local/lib/python3.10/dist-packages (from rich>=13.3.2->comet_ml) (3.0.0)\n",
            "Requirement already satisfied: pygments<3.0.0,>=2.13.0 in /usr/local/lib/python3.10/dist-packages (from rich>=13.3.2->comet_ml) (2.16.1)\n",
            "Requirement already satisfied: mdurl~=0.1 in /usr/local/lib/python3.10/dist-packages (from markdown-it-py>=2.2.0->rich>=13.3.2->comet_ml) (0.1.2)\n",
            "Requirement already satisfied: six in /usr/local/lib/python3.10/dist-packages (from configobj->everett[ini]<3.2.0,>=1.0.1->comet_ml) (1.16.0)\n",
            "Downloading comet_ml-3.45.0-py3-none-any.whl (687 kB)\n",
            "\u001b[2K   \u001b[90m━━━━━━━━━━━━━━━━━━━━━━━━━━━━━━━━━━━━━━━━\u001b[0m \u001b[32m687.3/687.3 kB\u001b[0m \u001b[31m18.3 MB/s\u001b[0m eta \u001b[36m0:00:00\u001b[0m\n",
            "\u001b[?25hDownloading dulwich-0.22.1-cp310-cp310-manylinux_2_17_x86_64.manylinux2014_x86_64.whl (979 kB)\n",
            "\u001b[2K   \u001b[90m━━━━━━━━━━━━━━━━━━━━━━━━━━━━━━━━━━━━━━━━\u001b[0m \u001b[32m979.1/979.1 kB\u001b[0m \u001b[31m37.5 MB/s\u001b[0m eta \u001b[36m0:00:00\u001b[0m\n",
            "\u001b[?25hDownloading everett-3.1.0-py2.py3-none-any.whl (35 kB)\n",
            "Downloading python_box-6.1.0-cp310-cp310-manylinux_2_17_x86_64.manylinux2014_x86_64.whl (3.3 MB)\n",
            "\u001b[2K   \u001b[90m━━━━━━━━━━━━━━━━━━━━━━━━━━━━━━━━━━━━━━━━\u001b[0m \u001b[32m3.3/3.3 MB\u001b[0m \u001b[31m53.1 MB/s\u001b[0m eta \u001b[36m0:00:00\u001b[0m\n",
            "\u001b[?25hDownloading requests_toolbelt-1.0.0-py2.py3-none-any.whl (54 kB)\n",
            "\u001b[2K   \u001b[90m━━━━━━━━━━━━━━━━━━━━━━━━━━━━━━━━━━━━━━━━\u001b[0m \u001b[32m54.5/54.5 kB\u001b[0m \u001b[31m2.7 MB/s\u001b[0m eta \u001b[36m0:00:00\u001b[0m\n",
            "\u001b[?25hDownloading semantic_version-2.10.0-py2.py3-none-any.whl (15 kB)\n",
            "Downloading sentry_sdk-2.13.0-py2.py3-none-any.whl (309 kB)\n",
            "\u001b[2K   \u001b[90m━━━━━━━━━━━━━━━━━━━━━━━━━━━━━━━━━━━━━━━━\u001b[0m \u001b[32m309.1/309.1 kB\u001b[0m \u001b[31m19.3 MB/s\u001b[0m eta \u001b[36m0:00:00\u001b[0m\n",
            "\u001b[?25hDownloading wurlitzer-3.1.1-py3-none-any.whl (8.6 kB)\n",
            "Downloading simplejson-3.19.3-cp310-cp310-manylinux_2_5_x86_64.manylinux1_x86_64.manylinux_2_17_x86_64.manylinux2014_x86_64.whl (137 kB)\n",
            "\u001b[2K   \u001b[90m━━━━━━━━━━━━━━━━━━━━━━━━━━━━━━━━━━━━━━━━\u001b[0m \u001b[32m137.9/137.9 kB\u001b[0m \u001b[31m8.4 MB/s\u001b[0m eta \u001b[36m0:00:00\u001b[0m\n",
            "\u001b[?25hDownloading configobj-5.0.8-py2.py3-none-any.whl (36 kB)\n",
            "Installing collected packages: everett, wurlitzer, simplejson, sentry-sdk, semantic-version, python-box, dulwich, configobj, requests-toolbelt, comet_ml\n",
            "  Attempting uninstall: python-box\n",
            "    Found existing installation: python-box 7.2.0\n",
            "    Uninstalling python-box-7.2.0:\n",
            "      Successfully uninstalled python-box-7.2.0\n",
            "Successfully installed comet_ml-3.45.0 configobj-5.0.8 dulwich-0.22.1 everett-3.1.0 python-box-6.1.0 requests-toolbelt-1.0.0 semantic-version-2.10.0 sentry-sdk-2.13.0 simplejson-3.19.3 wurlitzer-3.1.1\n"
          ]
        },
        {
          "name": "stderr",
          "output_type": "stream",
          "text": [
            "\u001b[1;38;5;214mCOMET WARNING:\u001b[0m comet_ml.init() is deprecated and will be removed soon. Please use comet_ml.login()\n"
          ]
        },
        {
          "name": "stdout",
          "output_type": "stream",
          "text": [
            "Please paste your Comet API key from https://www.comet.com/api/my/settings/\n",
            "(api key may not show as you type)\n"
          ]
        }
      ],
      "source": [
        "#For recording video\n",
        "%pip install gymnasium[classic_control] comet_ml\n",
        "import comet_ml\n",
        "comet_ml.init(project_name=\"cliff_walking_q_learning\")\n",
        "env = gym.wrappers.RecordVideo(env, 'gameplay video') #fdiox3CS3j2WHY7yzjJclVgbt"
      ]
    },
    {
      "cell_type": "code",
      "execution_count": null,
      "metadata": {
        "id": "NqLCo6zxZHBH"
      },
      "outputs": [],
      "source": [
        "#Visualising the game\n",
        "for episode in range(3):\n",
        "  state=env.reset()[0]\n",
        "  done=False\n",
        "  print('----------EPISODE:',episode+1,'---------\\n\\n\\n\\n')\n",
        "  time.sleep(1)\n",
        "\n",
        "  for step in range(steps_allowed):\n",
        "    clear_output(wait=True)\n",
        "    print(env.render())\n",
        "    time.sleep(0.3)\n",
        "\n",
        "    action = np.argmax(Q_table[state,:])\n",
        "    new_state, reward, done, truncated, info = env.step(action)\n",
        "\n",
        "    if done:\n",
        "      clear_output(wait=True)\n",
        "      print(env.render())\n",
        "      if reward == -100:\n",
        "          print(\"****You fell off the cliff****\")\n",
        "          time.sleep(3)\n",
        "      else:\n",
        "          print(\"****You reached the goal****\")\n",
        "          time.sleep(3)\n",
        "      clear_output(wait=True)\n",
        "      break\n",
        "\n",
        "    state=new_state\n",
        "\n",
        "env.close()"
      ]
    },
    {
      "cell_type": "code",
      "execution_count": null,
      "metadata": {
        "id": "X0npOLlIdxSc"
      },
      "outputs": [],
      "source": []
    }
  ],
  "metadata": {
    "colab": {
      "provenance": []
    },
    "kernelspec": {
      "display_name": "Python 3",
      "name": "python3"
    },
    "language_info": {
      "name": "python"
    }
  },
  "nbformat": 4,
  "nbformat_minor": 0
}